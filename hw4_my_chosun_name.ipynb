{
  "nbformat": 4,
  "nbformat_minor": 0,
  "metadata": {
    "colab": {
      "provenance": [],
      "machine_shape": "hm",
      "gpuType": "T4"
    },
    "kernelspec": {
      "name": "python3",
      "display_name": "Python 3"
    },
    "language_info": {
      "name": "python"
    },
    "accelerator": "GPU"
  },
  "cells": [
    {
      "cell_type": "code",
      "execution_count": 2,
      "metadata": {
        "colab": {
          "base_uri": "https://localhost:8080/"
        },
        "id": "X-llDTZZz1WW",
        "outputId": "b052b5ca-9327-484d-89ce-9ff9f7abdd38"
      },
      "outputs": [
        {
          "output_type": "execute_result",
          "data": {
            "text/plain": [
              "['쌍', '쇠', '복', '돌', '팽', '육', '쌍', '개', '칠', '갑', '삼', '방']"
            ]
          },
          "metadata": {},
          "execution_count": 2
        }
      ],
      "source": [
        "month = ['쌍', '쇠', '복', '돌', '팽', '육', '쌍', '개', '칠', '갑', '삼', '방']\n",
        "month"
      ]
    },
    {
      "cell_type": "code",
      "source": [
        "day = ['봉', '구', '욕', '포', '똥', '삼', '식', '석', '놈', '님', '년', '돌', '단', '득', '방', '질', '장', '걸', '래', '룡', '동', '순', '자', '박', '창', '언', '것', '포', '만', '단', '국']\n",
        "day"
      ],
      "metadata": {
        "colab": {
          "base_uri": "https://localhost:8080/"
        },
        "id": "asBvVrtg1cWx",
        "outputId": "9cea1abb-df7b-4d47-b8f5-6c47dc168073"
      },
      "execution_count": 3,
      "outputs": [
        {
          "output_type": "execute_result",
          "data": {
            "text/plain": [
              "['봉',\n",
              " '구',\n",
              " '욕',\n",
              " '포',\n",
              " '똥',\n",
              " '삼',\n",
              " '식',\n",
              " '석',\n",
              " '놈',\n",
              " '님',\n",
              " '년',\n",
              " '돌',\n",
              " '단',\n",
              " '득',\n",
              " '방',\n",
              " '질',\n",
              " '장',\n",
              " '걸',\n",
              " '래',\n",
              " '룡',\n",
              " '동',\n",
              " '순',\n",
              " '자',\n",
              " '박',\n",
              " '창',\n",
              " '언',\n",
              " '것',\n",
              " '포',\n",
              " '만',\n",
              " '단',\n",
              " '국']"
            ]
          },
          "metadata": {},
          "execution_count": 3
        }
      ]
    },
    {
      "cell_type": "code",
      "source": [
        "def get_my_chosun_name(first_name : str, i: int, j: int) :\n",
        "    chosun_name = first_name + month[i- 1] + day[j - 1]\n",
        "    print(f\"당신의 조선시대 이름은 {chosun_name} 입니다.\")"
      ],
      "metadata": {
        "id": "lqB1RsC01gAF"
      },
      "execution_count": 4,
      "outputs": []
    },
    {
      "cell_type": "code",
      "source": [
        "get_my_chosun_name(\"이\", 10, 30)"
      ],
      "metadata": {
        "colab": {
          "base_uri": "https://localhost:8080/"
        },
        "id": "wIo333lp2EDC",
        "outputId": "60ed6fcc-6897-4309-aa00-812d86343ef9"
      },
      "execution_count": 5,
      "outputs": [
        {
          "output_type": "stream",
          "name": "stdout",
          "text": [
            "당신의 조선시대 이름은 이갑단 입니다.\n"
          ]
        }
      ]
    }
  ]
}