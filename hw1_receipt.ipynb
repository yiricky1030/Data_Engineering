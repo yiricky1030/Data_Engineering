{
 "cells": [
  {
   "cell_type": "code",
   "execution_count": 1,
   "id": "4c326637-bf28-429a-b9f9-e92a461ba666",
   "metadata": {},
   "outputs": [
    {
     "data": {
      "text/plain": [
       "'Lovely Loveseat. Tufted polyester blend on wood. 32 inches high x 40 inches wide x 30 inches deep. Red or white.'"
      ]
     },
     "execution_count": 1,
     "metadata": {},
     "output_type": "execute_result"
    }
   ],
   "source": [
    "lovely_loveseat_description = \"Lovely Loveseat. Tufted polyester blend on wood. 32 inches high x 40 inches wide x 30 inches deep. Red or white.\"\n",
    "lovely_loveseat_description"
   ]
  },
  {
   "cell_type": "code",
   "execution_count": 2,
   "id": "f782bdca-2a05-4890-89d2-bc1de069e184",
   "metadata": {},
   "outputs": [
    {
     "data": {
      "text/plain": [
       "254.0"
      ]
     },
     "execution_count": 2,
     "metadata": {},
     "output_type": "execute_result"
    }
   ],
   "source": [
    "lovely_loveseat_price = 254.00\n",
    "lovely_loveseat_price"
   ]
  },
  {
   "cell_type": "code",
   "execution_count": 3,
   "id": "88dc7d89-8d9c-48c1-a569-da1afc1645be",
   "metadata": {},
   "outputs": [
    {
     "data": {
      "text/plain": [
       "'Stylish Settee. Faux leather on birch. 29.50 inches high x 54.75 inches wide x 28 inches deep. Black.'"
      ]
     },
     "execution_count": 3,
     "metadata": {},
     "output_type": "execute_result"
    }
   ],
   "source": [
    "stylish_settee_description = \"Stylish Settee. Faux leather on birch. 29.50 inches high x 54.75 inches wide x 28 inches deep. Black.\"\n",
    "stylish_settee_description"
   ]
  },
  {
   "cell_type": "code",
   "execution_count": 4,
   "id": "6ee01c2e-885a-4995-9e8b-7ff72fe264b8",
   "metadata": {},
   "outputs": [
    {
     "data": {
      "text/plain": [
       "180.5"
      ]
     },
     "execution_count": 4,
     "metadata": {},
     "output_type": "execute_result"
    }
   ],
   "source": [
    "stylish_settee_price = 180.50\n",
    "stylish_settee_price"
   ]
  },
  {
   "cell_type": "code",
   "execution_count": 5,
   "id": "c9e15d07-97d7-4bf7-a283-ac5786be47a0",
   "metadata": {},
   "outputs": [
    {
     "data": {
      "text/plain": [
       "'Luxurious Lamp. Glass and iron. 36 inches tall. Brown with cream shade.'"
      ]
     },
     "execution_count": 5,
     "metadata": {},
     "output_type": "execute_result"
    }
   ],
   "source": [
    "luxurious_lamp_description = \"Luxurious Lamp. Glass and iron. 36 inches tall. Brown with cream shade.\"\n",
    "luxurious_lamp_description"
   ]
  },
  {
   "cell_type": "code",
   "execution_count": 6,
   "id": "522cb62e-2277-4ef7-865d-f0dece39a80b",
   "metadata": {},
   "outputs": [
    {
     "data": {
      "text/plain": [
       "52.15"
      ]
     },
     "execution_count": 6,
     "metadata": {},
     "output_type": "execute_result"
    }
   ],
   "source": [
    "luxurious_lamp_price = 52.15\n",
    "luxurious_lamp_price"
   ]
  },
  {
   "cell_type": "code",
   "execution_count": 7,
   "id": "4880b79c-4b78-4441-bfdf-d6bd0bf534a0",
   "metadata": {},
   "outputs": [
    {
     "data": {
      "text/plain": [
       "0.088"
      ]
     },
     "execution_count": 7,
     "metadata": {},
     "output_type": "execute_result"
    }
   ],
   "source": [
    "sales_tax = 0.088\n",
    "sales_tax"
   ]
  },
  {
   "cell_type": "code",
   "execution_count": 8,
   "id": "0857e7a9-207a-4b9f-be3f-77a5a01a00a3",
   "metadata": {},
   "outputs": [],
   "source": [
    "customer_one_total = 0\n"
   ]
  },
  {
   "cell_type": "code",
   "execution_count": 9,
   "id": "2bc88322-23eb-4136-b129-9e6289650e24",
   "metadata": {},
   "outputs": [],
   "source": [
    "customer_one_itemization = \"\"\n"
   ]
  },
  {
   "cell_type": "code",
   "execution_count": 10,
   "id": "8ea5621f-3965-46b0-baad-63ca0321e0f4",
   "metadata": {},
   "outputs": [],
   "source": [
    "customer_one_total += lovely_loveseat_price\n"
   ]
  },
  {
   "cell_type": "code",
   "execution_count": 11,
   "id": "74ba4626-5024-4acf-b856-3f0f4fa21e2a",
   "metadata": {},
   "outputs": [],
   "source": [
    "customer_one_itemization += lovely_loveseat_description + \"\\n\"\n"
   ]
  },
  {
   "cell_type": "code",
   "execution_count": 12,
   "id": "697c70ca-0842-4655-b429-3c2ca1073bba",
   "metadata": {},
   "outputs": [],
   "source": [
    "customer_one_total += luxurious_lamp_price\n"
   ]
  },
  {
   "cell_type": "code",
   "execution_count": 13,
   "id": "dd273827-d107-44cf-b4df-10246dc7aae5",
   "metadata": {},
   "outputs": [],
   "source": [
    "customer_one_itemization += luxurious_lamp_description + \"\\n\"\n"
   ]
  },
  {
   "cell_type": "code",
   "execution_count": 14,
   "id": "2e88fc06-df5c-4768-81c7-0d35e0f96640",
   "metadata": {},
   "outputs": [],
   "source": [
    "customer_one_tax = customer_one_total * sales_tax\n"
   ]
  },
  {
   "cell_type": "code",
   "execution_count": 15,
   "id": "0a227f48-b444-40dc-8a71-8c5e0c603e7a",
   "metadata": {},
   "outputs": [],
   "source": [
    "customer_one_total += customer_one_tax\n"
   ]
  },
  {
   "cell_type": "code",
   "execution_count": 16,
   "id": "9fe443e5-c41c-4683-afa1-2a37ec82c108",
   "metadata": {},
   "outputs": [
    {
     "name": "stdout",
     "output_type": "stream",
     "text": [
      "Customer One Items:\n"
     ]
    }
   ],
   "source": [
    "print(\"Customer One Items:\")\n"
   ]
  },
  {
   "cell_type": "code",
   "execution_count": 17,
   "id": "1542100b-301d-4c80-b3ab-ab172875eddb",
   "metadata": {},
   "outputs": [
    {
     "name": "stdout",
     "output_type": "stream",
     "text": [
      "Lovely Loveseat. Tufted polyester blend on wood. 32 inches high x 40 inches wide x 30 inches deep. Red or white.\n",
      "Luxurious Lamp. Glass and iron. 36 inches tall. Brown with cream shade.\n",
      "\n"
     ]
    }
   ],
   "source": [
    "print(customer_one_itemization)\n"
   ]
  },
  {
   "cell_type": "code",
   "execution_count": 18,
   "id": "8a75bd56-2cfe-49e6-90e1-e1438b9fd069",
   "metadata": {},
   "outputs": [
    {
     "name": "stdout",
     "output_type": "stream",
     "text": [
      "Customer One Total:\n"
     ]
    }
   ],
   "source": [
    "print(\"Customer One Total:\")\n"
   ]
  },
  {
   "cell_type": "code",
   "execution_count": 19,
   "id": "90875d91-1e41-4a2c-a7cc-0dbc444175b0",
   "metadata": {},
   "outputs": [
    {
     "name": "stdout",
     "output_type": "stream",
     "text": [
      "333.09119999999996\n"
     ]
    }
   ],
   "source": [
    "print(customer_one_total)\n"
   ]
  },
  {
   "cell_type": "code",
   "execution_count": null,
   "id": "077d66e4-175a-4ff2-8852-d6f37ab072b7",
   "metadata": {},
   "outputs": [],
   "source": []
  }
 ],
 "metadata": {
  "kernelspec": {
   "display_name": "Python 3 (ipykernel)",
   "language": "python",
   "name": "python3"
  },
  "language_info": {
   "codemirror_mode": {
    "name": "ipython",
    "version": 3
   },
   "file_extension": ".py",
   "mimetype": "text/x-python",
   "name": "python",
   "nbconvert_exporter": "python",
   "pygments_lexer": "ipython3",
   "version": "3.9.7"
  }
 },
 "nbformat": 4,
 "nbformat_minor": 5
}
